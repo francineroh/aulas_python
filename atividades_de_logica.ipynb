{
  "nbformat": 4,
  "nbformat_minor": 0,
  "metadata": {
    "colab": {
      "provenance": [],
      "authorship_tag": "ABX9TyOAn/oq+yAgCiXe3d4FEypT",
      "include_colab_link": true
    },
    "kernelspec": {
      "name": "python3",
      "display_name": "Python 3"
    },
    "language_info": {
      "name": "python"
    }
  },
  "cells": [
    {
      "cell_type": "markdown",
      "metadata": {
        "id": "view-in-github",
        "colab_type": "text"
      },
      "source": [
        "<a href=\"https://colab.research.google.com/github/francineroh/aulas_python/blob/main/atividades_de_logica.ipynb\" target=\"_parent\"><img src=\"https://colab.research.google.com/assets/colab-badge.svg\" alt=\"Open In Colab\"/></a>"
      ]
    },
    {
      "cell_type": "code",
      "execution_count": null,
      "metadata": {
        "colab": {
          "base_uri": "https://localhost:8080/"
        },
        "id": "D8hy0u90LIBi",
        "outputId": "20b5c311-e0e0-4fec-8332-f499b6349fa1"
      },
      "outputs": [
        {
          "output_type": "stream",
          "name": "stdout",
          "text": [
            "Bem-vindo a loja da Francine Rohregger\n",
            "Entre com o valor do produto: 20\n",
            "Entre com a quantidade do produto: 30\n",
            "O valor SEM desconto: R$600.00\n",
            "Você não atingiu o valor mínimo para gerar desconto.\n"
          ]
        }
      ],
      "source": [
        "print('Bem-vindo a loja da Francine Rohregger')\n",
        "\n",
        "valor = float(input('Entre com o valor do produto: '))\n",
        "quant = int(input('Entre com a quantidade do produto: '))\n",
        "total = valor * quant\n",
        "\n",
        "if (total >= 2500 and total < 6000): # para valor total igual ou maior que R$ 2500 e menor que R$ 6000 desc de 4%\n",
        "    desc = total * 4/100\n",
        "    final = total - desc\n",
        "    print(f'O valor SEM desconto: R${total:.2f}')\n",
        "    print(f'O valor COM desconto: R${final:.2f}')\n",
        "elif (total >= 6000 and total < 10000): # para valor total igual ou maior que R$ 6000 e menor que R$ 10000 desc de 7%\n",
        "    desc = total * 7/100\n",
        "    final = total - desc\n",
        "    print(f'O valor SEM desconto: R${total:.2f}')\n",
        "    print(f'O valor COM desconto: R${final:.2f}')\n",
        "elif (total >= 10000): # para valor total igual ou maior que R$ 10000 desc de 11%\n",
        "    desc = total * 11/100\n",
        "    final = total - desc\n",
        "    print(f'O valor SEM desconto: R${total:.2f}')\n",
        "    print(f'O valor COM desconto: R${final:.2f}')\n",
        "else: # para valor total menor que R$ 2500 não tem desc\n",
        "    print(f'O valor SEM desconto: R${total:.2f}')\n",
        "    print(f'Você não atingiu o valor mínimo para gerar desconto.')"
      ]
    },
    {
      "cell_type": "code",
      "source": [
        "print('Bem-vindo a loja da Francine Rohregger')\n",
        "\n",
        "# Solicitando ao usuário os valores\n",
        "valor = float(input('Entre com o valor do produto: '))\n",
        "quant = int(input('Entre com a quantidade do produto: '))\n",
        "# Calculando o valor total da compra\n",
        "total = valor * quant\n",
        "\n",
        "# para valor total igual ou maior que R$ 2500 e menor que R$ 6000 desconto de 4%\n",
        "# para valor total igual ou maior que R$ 6000 e menor que R$ 10000 desconto de 7%\n",
        "# para valor total igual ou maior que R$ 10000 desconto de 11%\n",
        "# para valor total menor que R$ 2500 não tem desconto\n",
        "\n",
        "# Calculando o valor do desconto para cada intervalo\n",
        "if (total >= 2500 and total < 6000):\n",
        "    desc = total * 4/100\n",
        "    final = total - desc\n",
        "    print(f'O valor SEM desconto: R${total:.2f}')\n",
        "    print(f'O valor COM desconto: R${final:.2f}')\n",
        "elif (total >= 6000 and total < 10000):\n",
        "    desc = total * 7/100\n",
        "    final = total - desc\n",
        "    print(f'O valor SEM desconto: R${total:.2f}')\n",
        "    print(f'O valor COM desconto: R${final:.2f}')\n",
        "elif (total >= 10000):\n",
        "    desc = total * 11/100\n",
        "    final = total - desc\n",
        "    print(f'O valor SEM desconto: R${total:.2f}')\n",
        "    print(f'O valor COM desconto: R${final:.2f}')\n",
        "else:\n",
        "    print(f'O valor SEM desconto: R${total:.2f}')\n",
        "    print(f'Você não atingiu o valor mínimo para gerar desconto.')\n"
      ],
      "metadata": {
        "colab": {
          "base_uri": "https://localhost:8080/"
        },
        "id": "86CJ9GR1QksQ",
        "outputId": "252ff089-d401-40fe-9f66-9c91969bffe6"
      },
      "execution_count": null,
      "outputs": [
        {
          "output_type": "stream",
          "name": "stdout",
          "text": [
            "Bem-vindo a loja da Francine Rohregger\n",
            "Entre com o valor do produto: 20\n",
            "Entre com a quantidade do produto: 30\n",
            "O valor SEM desconto: R$600.00\n",
            "Você não atingiu o valor mínimo para gerar desconto.\n"
          ]
        }
      ]
    },
    {
      "cell_type": "code",
      "source": [
        "print('Bem-vindo a loja de Gelados da Francine Rohregger')\n",
        "print(20 * '-' + 'Cardápio' + 20 * '-')\n",
        "print(48 * '-')\n",
        "print('---| Tamanho  |  Cupuaçu (CP)  | Açaí (AC)  |---')\n",
        "print('---|    P     |    R$  9.00    |  R$ 11.00  |---')\n",
        "print('---|    M     |    R$ 14.00    |  R$ 16.00  |---')\n",
        "print('---|    G     |    R$ 18.00    |  R$ 20.00  |---')\n",
        "print(48 * '-')\n",
        "\n",
        "valorTotal = 0.00\n",
        "\n",
        "while True:\n",
        "    sabor = input('Entre com o sabor desejado (CP/AC): ').upper()\n",
        "    if (sabor != 'CP' and sabor != 'AC'):\n",
        "        print('Sabor inválido. Tente novamente.\\n')\n",
        "        continue\n",
        "\n",
        "    tamanho = input('Entre com o tamanho desejado (P/M/G): ').upper()\n",
        "    if (tamanho != 'P' and tamanho != 'M' and tamanho != 'G'):\n",
        "        print('Tamanho inválido. Tente novamente.\\n')\n",
        "        continue\n",
        "\n",
        "    if (sabor == 'CP'):\n",
        "        if tamanho == 'P':\n",
        "            valorItem = 9.00\n",
        "            print('Você pediu um Cupuaçu tamanho P: R$ 9,00\\n')\n",
        "        elif tamanho == 'M':\n",
        "            valorItem = 14.00\n",
        "            print('Você pediu um Cupuaçu tamanho M: R$ 14,00\\n')\n",
        "        elif tamanho == 'G':\n",
        "            valorItem = 18.00\n",
        "            print('Você pediu um Cupuaçu tamanho G: R$ 18,00\\n')\n",
        "    elif (sabor == 'AC'):\n",
        "        if tamanho == 'P':\n",
        "            valorItem = 11.00\n",
        "            print('Você pediu um Açaí tamanho P: R$ 11,00\\n')\n",
        "        elif tamanho == 'M':\n",
        "            valorItem = 16.00\n",
        "            print('Você pediu um Açaí tamanho M: R$ 16,00\\n')\n",
        "        elif tamanho == 'G':\n",
        "            valorItem = 20.00\n",
        "            print('Você pediu um Açaí tamanho G: R$ 20,00\\n')\n",
        "\n",
        "    valorTotal += valorItem\n",
        "    verif = input('Deseja pedir mais alguma coisa? (S/N): ').upper()\n",
        "    if (verif != 'S'):\n",
        "        print(f'\\nO valor total a ser pago é: R$ {valorTotal:.2f}.\\n')\n",
        "        break"
      ],
      "metadata": {
        "colab": {
          "base_uri": "https://localhost:8080/"
        },
        "id": "4zmqOR2mgwr3",
        "outputId": "0ba66052-3090-4454-c3c3-d3b4f4c41e7e"
      },
      "execution_count": null,
      "outputs": [
        {
          "output_type": "stream",
          "name": "stdout",
          "text": [
            "Bem-vindo a loja de Gelados da Francine Rohregger\n",
            "--------------------Cardápio--------------------\n",
            "------------------------------------------------\n",
            "---| Tamanho  |  Cupuaçu (CP)  | Açaí (AC)  |---\n",
            "---|    P     |    R$  9.00    |  R$ 11.00  |---\n",
            "---|    M     |    R$ 14.00    |  R$ 16.00  |---\n",
            "---|    G     |    R$ 18.00    |  R$ 20.00  |---\n",
            "------------------------------------------------\n",
            "Entre com o sabor desejado (CP/AC): cp\n",
            "Entre com o tamanho desejado (P/M/G): m\n",
            "Você pediu um Cupuaçu tamanho M: R$ 14,00\n",
            "\n",
            "Deseja pedir mais alguma coisa? (S/N): s\n",
            "Entre com o sabor desejado (CP/AC): cp\n",
            "Entre com o tamanho desejado (P/M/G): g\n",
            "Você pediu um Cupuaçu tamanho G: R$ 18,00\n",
            "\n",
            "Deseja pedir mais alguma coisa? (S/N): n\n",
            "\n",
            "O valor total a ser pago é: R$ 32.00.\n",
            "\n"
          ]
        }
      ]
    },
    {
      "cell_type": "code",
      "source": [
        "print('Bem-vindo a loja de Gelados da Francine Rohregger')\n",
        "print(20 * '-' + 'Cardápio' + 20 * '-')\n",
        "print(48 * '-')\n",
        "print('---| Tamanho  |  Cupuaçu (CP)  | Açaí (AC)  |---')\n",
        "print('---|    P     |    R$  9.00    |  R$ 11.00  |---')\n",
        "print('---|    M     |    R$ 14.00    |  R$ 16.00  |---')\n",
        "print('---|    G     |    R$ 18.00    |  R$ 20.00  |---')\n",
        "print(48 * '-')\n",
        "\n",
        "valorTotal = 0.00\n",
        "\n",
        "while True: # verificando se digitou corretamente o pedido\n",
        "    sabor = input('Entre com o sabor desejado (CP/AC): ').upper()\n",
        "    if (sabor != 'CP' and sabor != 'AC'):\n",
        "        print('Sabor inválido. Tente novamente.\\n')\n",
        "        continue\n",
        "\n",
        "    tamanho = input('Entre com o tamanho desejado (P/M/G): ').upper()\n",
        "    if (tamanho != 'P' and tamanho != 'M' and tamanho != 'G'):\n",
        "        print('Tamanho inválido. Tente novamente.\\n')\n",
        "        continue\n",
        "\n",
        "    if (sabor == 'CP'): # realizando o pedido do cliente\n",
        "        if tamanho == 'P':\n",
        "            valorItem = 9.00\n",
        "            print('Você pediu um Cupuaçu tamanho P: R$ 9,00\\n')\n",
        "        elif tamanho == 'M':\n",
        "            valorItem = 14.00\n",
        "            print('Você pediu um Cupuaçu tamanho M: R$ 14,00\\n')\n",
        "        elif tamanho == 'G':\n",
        "            valorItem = 18.00\n",
        "            print('Você pediu um Cupuaçu tamanho G: R$ 18,00\\n')\n",
        "    elif (sabor == 'AC'):\n",
        "        if tamanho == 'P':\n",
        "            valorItem = 11.00\n",
        "            print('Você pediu um Açaí tamanho P: R$ 11,00\\n')\n",
        "        elif tamanho == 'M':\n",
        "            valorItem = 16.00\n",
        "            print('Você pediu um Açaí tamanho M: R$ 16,00\\n')\n",
        "        elif tamanho == 'G':\n",
        "            valorItem = 20.00\n",
        "            print('Você pediu um Açaí tamanho G: R$ 20,00\\n')\n",
        "\n",
        "    valorTotal += valorItem # acumulador para somar os valores do pedido\n",
        "\n",
        "    verif = input('Deseja pedir mais alguma coisa? (S/N): ').upper()\n",
        "    if (verif != 'S'): # verificando se deseja pedir algo mais\n",
        "        print(f'\\nO valor total a ser pago é: R$ {valorTotal:.2f}.\\n')\n",
        "        break"
      ],
      "metadata": {
        "colab": {
          "base_uri": "https://localhost:8080/",
          "height": 522
        },
        "id": "KhoVK7p91m-t",
        "outputId": "3610b672-2562-4b5c-c92b-369d34bdd534"
      },
      "execution_count": null,
      "outputs": [
        {
          "output_type": "stream",
          "name": "stdout",
          "text": [
            "Bem-vindo a loja de Gelados da Francine Rohregger\n",
            "--------------------Cardápio--------------------\n",
            "------------------------------------------------\n",
            "---| Tamanho  |  Cupuaçu (CP)  | Açaí (AC)  |---\n",
            "---|    P     |    R$  9.00    |  R$ 11.00  |---\n",
            "---|    M     |    R$ 14.00    |  R$ 16.00  |---\n",
            "---|    G     |    R$ 18.00    |  R$ 20.00  |---\n",
            "------------------------------------------------\n"
          ]
        },
        {
          "output_type": "error",
          "ename": "KeyboardInterrupt",
          "evalue": "Interrupted by user",
          "traceback": [
            "\u001b[0;31m---------------------------------------------------------------------------\u001b[0m",
            "\u001b[0;31mKeyboardInterrupt\u001b[0m                         Traceback (most recent call last)",
            "\u001b[0;32m/tmp/ipython-input-1175676358.py\u001b[0m in \u001b[0;36m<cell line: 0>\u001b[0;34m()\u001b[0m\n\u001b[1;32m     11\u001b[0m \u001b[0;34m\u001b[0m\u001b[0m\n\u001b[1;32m     12\u001b[0m \u001b[0;32mwhile\u001b[0m \u001b[0;32mTrue\u001b[0m\u001b[0;34m:\u001b[0m \u001b[0;31m# verificando se digitou corretamente o pedido\u001b[0m\u001b[0;34m\u001b[0m\u001b[0;34m\u001b[0m\u001b[0m\n\u001b[0;32m---> 13\u001b[0;31m     \u001b[0msabor\u001b[0m \u001b[0;34m=\u001b[0m \u001b[0minput\u001b[0m\u001b[0;34m(\u001b[0m\u001b[0;34m'Entre com o sabor desejado (CP/AC): '\u001b[0m\u001b[0;34m)\u001b[0m\u001b[0;34m.\u001b[0m\u001b[0mupper\u001b[0m\u001b[0;34m(\u001b[0m\u001b[0;34m)\u001b[0m\u001b[0;34m\u001b[0m\u001b[0;34m\u001b[0m\u001b[0m\n\u001b[0m\u001b[1;32m     14\u001b[0m     \u001b[0;32mif\u001b[0m \u001b[0;34m(\u001b[0m\u001b[0msabor\u001b[0m \u001b[0;34m!=\u001b[0m \u001b[0;34m'CP'\u001b[0m \u001b[0;32mand\u001b[0m \u001b[0msabor\u001b[0m \u001b[0;34m!=\u001b[0m \u001b[0;34m'AC'\u001b[0m\u001b[0;34m)\u001b[0m\u001b[0;34m:\u001b[0m\u001b[0;34m\u001b[0m\u001b[0;34m\u001b[0m\u001b[0m\n\u001b[1;32m     15\u001b[0m         \u001b[0mprint\u001b[0m\u001b[0;34m(\u001b[0m\u001b[0;34m'Sabor inválido. Tente novamente.\\n'\u001b[0m\u001b[0;34m)\u001b[0m\u001b[0;34m\u001b[0m\u001b[0;34m\u001b[0m\u001b[0m\n",
            "\u001b[0;32m/usr/local/lib/python3.12/dist-packages/ipykernel/kernelbase.py\u001b[0m in \u001b[0;36mraw_input\u001b[0;34m(self, prompt)\u001b[0m\n\u001b[1;32m   1175\u001b[0m                 \u001b[0;34m\"raw_input was called, but this frontend does not support input requests.\"\u001b[0m\u001b[0;34m\u001b[0m\u001b[0;34m\u001b[0m\u001b[0m\n\u001b[1;32m   1176\u001b[0m             )\n\u001b[0;32m-> 1177\u001b[0;31m         return self._input_request(\n\u001b[0m\u001b[1;32m   1178\u001b[0m             \u001b[0mstr\u001b[0m\u001b[0;34m(\u001b[0m\u001b[0mprompt\u001b[0m\u001b[0;34m)\u001b[0m\u001b[0;34m,\u001b[0m\u001b[0;34m\u001b[0m\u001b[0;34m\u001b[0m\u001b[0m\n\u001b[1;32m   1179\u001b[0m             \u001b[0mself\u001b[0m\u001b[0;34m.\u001b[0m\u001b[0m_parent_ident\u001b[0m\u001b[0;34m[\u001b[0m\u001b[0;34m\"shell\"\u001b[0m\u001b[0;34m]\u001b[0m\u001b[0;34m,\u001b[0m\u001b[0;34m\u001b[0m\u001b[0;34m\u001b[0m\u001b[0m\n",
            "\u001b[0;32m/usr/local/lib/python3.12/dist-packages/ipykernel/kernelbase.py\u001b[0m in \u001b[0;36m_input_request\u001b[0;34m(self, prompt, ident, parent, password)\u001b[0m\n\u001b[1;32m   1217\u001b[0m             \u001b[0;32mexcept\u001b[0m \u001b[0mKeyboardInterrupt\u001b[0m\u001b[0;34m:\u001b[0m\u001b[0;34m\u001b[0m\u001b[0;34m\u001b[0m\u001b[0m\n\u001b[1;32m   1218\u001b[0m                 \u001b[0;31m# re-raise KeyboardInterrupt, to truncate traceback\u001b[0m\u001b[0;34m\u001b[0m\u001b[0;34m\u001b[0m\u001b[0m\n\u001b[0;32m-> 1219\u001b[0;31m                 \u001b[0;32mraise\u001b[0m \u001b[0mKeyboardInterrupt\u001b[0m\u001b[0;34m(\u001b[0m\u001b[0;34m\"Interrupted by user\"\u001b[0m\u001b[0;34m)\u001b[0m \u001b[0;32mfrom\u001b[0m \u001b[0;32mNone\u001b[0m\u001b[0;34m\u001b[0m\u001b[0;34m\u001b[0m\u001b[0m\n\u001b[0m\u001b[1;32m   1220\u001b[0m             \u001b[0;32mexcept\u001b[0m \u001b[0mException\u001b[0m\u001b[0;34m:\u001b[0m\u001b[0;34m\u001b[0m\u001b[0;34m\u001b[0m\u001b[0m\n\u001b[1;32m   1221\u001b[0m                 \u001b[0mself\u001b[0m\u001b[0;34m.\u001b[0m\u001b[0mlog\u001b[0m\u001b[0;34m.\u001b[0m\u001b[0mwarning\u001b[0m\u001b[0;34m(\u001b[0m\u001b[0;34m\"Invalid Message:\"\u001b[0m\u001b[0;34m,\u001b[0m \u001b[0mexc_info\u001b[0m\u001b[0;34m=\u001b[0m\u001b[0;32mTrue\u001b[0m\u001b[0;34m)\u001b[0m\u001b[0;34m\u001b[0m\u001b[0;34m\u001b[0m\u001b[0m\n",
            "\u001b[0;31mKeyboardInterrupt\u001b[0m: Interrupted by user"
          ]
        }
      ]
    },
    {
      "cell_type": "code",
      "source": [
        "print('Bem-vindo a Copiadora da Francine Rohregger!\\n')\n",
        "\n",
        "def escolha_servico():\n",
        "    while True: # Solicitando ao cliente o tipo de serviço\n",
        "        print('Entre com o tipo de serviço desejado')\n",
        "        print('DIG - Digitalizaçao')\n",
        "        print('ICO - Impressão Colorida')\n",
        "        print('IPB - Impressão Preto e Branco')\n",
        "        print('FOT - Fotocópia')\n",
        "        tipo = input('>> ').upper() # verificando se digitou corretamente o pedido\n",
        "        if (tipo != 'DIG' and tipo != 'ICO' and tipo != 'IPB' and tipo != 'FOT' ):\n",
        "            print('Escolha errada, entre com o tipo de serviço novamente.\\n')\n",
        "            continue\n",
        "        elif (tipo == 'DIG'): # retornando o valor do serviço\n",
        "            return 1.10\n",
        "        elif (tipo == 'ICO'):\n",
        "            return 1.00\n",
        "        elif (tipo == 'IPB'):\n",
        "            return 0.40\n",
        "        else:\n",
        "            return 0.20\n",
        "\n",
        "def num_pagina():\n",
        "    while True: # Solicitando ao cliente o número de páginas\n",
        "        try:\n",
        "            qtde = int(input('Entre com o número de páginas: '))\n",
        "        except:\n",
        "            print('O número informado deve ser inteiro, digite novamente.')\n",
        "            continue\n",
        "\n",
        "        if qtde < 20:\n",
        "            return qtde\n",
        "        elif qtde >= 20 and qtde < 200:\n",
        "            return qtde - (qtde * 15/100)\n",
        "        elif qtde >= 200 and qtde < 2000:\n",
        "            return qtde - (qtde * 20/100)\n",
        "        elif qtde >= 2000 and qtde < 20000:\n",
        "            return qtde - (qtde * 25/100)\n",
        "        else:\n",
        "            print('Não aceitamos tantas páginas de uma vez. \\nPor favor, entre com o número de páginas novamente.')\n",
        "\n",
        "def servico_extra():\n",
        "    while True: # Solicitando ao cliente se deseja algum serviço extra\n",
        "        print('Deseja adicionar algum serviço?')\n",
        "        print('1 - Encadernação simples - R$ 15,00')\n",
        "        print('2 - Encadernação capa dura - R$ 40,00')\n",
        "        print('0 - Não desejo mais nada')\n",
        "        extra = int(input('>> ')) # verificando se digitou corretamente\n",
        "        if (extra != '1' and extra != '2' and extra != '0'):\n",
        "            print('Escolha errada, entre com o tipo de serviço extra novamente.\\n')\n",
        "            continue\n",
        "        elif (extra == '1'): # retornando o valor do serviço extra\n",
        "            return 15.00\n",
        "        elif (extra == '2'):\n",
        "            return 40.00\n",
        "        else:\n",
        "            return 0.00\n",
        "\n",
        "servico = escolha_servico()\n",
        "num = num_pagina()\n",
        "extra = servico_extra()\n",
        "\n",
        "total = (servico * num) + extra\n",
        "\n",
        "print(f'Total = R$ {total:.2f} (serviço: {servico:.2f} * páginas {num} + extra: {extra:.2f})')"
      ],
      "metadata": {
        "colab": {
          "base_uri": "https://localhost:8080/",
          "height": 1000
        },
        "id": "JepvHOR2Lg-D",
        "outputId": "84328112-4fc8-4499-a8aa-0115a9bad833"
      },
      "execution_count": null,
      "outputs": [
        {
          "output_type": "stream",
          "name": "stdout",
          "text": [
            "Bem-vindo a Copiadora da Francine Rohregger!\n",
            "\n",
            "Entre com o tipo de serviço desejado\n",
            "DIG - Digitalizaçao\n",
            "ICO - Impressão Colorida\n",
            "IPB - Impressão Preto e Branco\n",
            "FOT - Fotocópia\n",
            ">> fot\n",
            "Entre com o número de páginas: 200\n",
            "Deseja adicionar algum serviço?\n",
            "1 - Encadernação simples - R$ 15,00\n",
            "2 - Encadernação capa dura - R$ 40,00\n",
            "0 - Não desejo mais nada\n",
            ">> 1\n",
            "Escolha errada, entre com o tipo de serviço extra novamente.\n",
            "\n",
            "Deseja adicionar algum serviço?\n",
            "1 - Encadernação simples - R$ 15,00\n",
            "2 - Encadernação capa dura - R$ 40,00\n",
            "0 - Não desejo mais nada\n",
            ">> 0\n",
            "Escolha errada, entre com o tipo de serviço extra novamente.\n",
            "\n",
            "Deseja adicionar algum serviço?\n",
            "1 - Encadernação simples - R$ 15,00\n",
            "2 - Encadernação capa dura - R$ 40,00\n",
            "0 - Não desejo mais nada\n",
            ">> 4\n",
            "Escolha errada, entre com o tipo de serviço extra novamente.\n",
            "\n",
            "Deseja adicionar algum serviço?\n",
            "1 - Encadernação simples - R$ 15,00\n",
            "2 - Encadernação capa dura - R$ 40,00\n",
            "0 - Não desejo mais nada\n",
            ">> 0\n",
            "Escolha errada, entre com o tipo de serviço extra novamente.\n",
            "\n",
            "Deseja adicionar algum serviço?\n",
            "1 - Encadernação simples - R$ 15,00\n",
            "2 - Encadernação capa dura - R$ 40,00\n",
            "0 - Não desejo mais nada\n"
          ]
        },
        {
          "output_type": "error",
          "ename": "KeyboardInterrupt",
          "evalue": "Interrupted by user",
          "traceback": [
            "\u001b[0;31m---------------------------------------------------------------------------\u001b[0m",
            "\u001b[0;31mKeyboardInterrupt\u001b[0m                         Traceback (most recent call last)",
            "\u001b[0;32m<ipython-input-1-97a32393d0b0>\u001b[0m in \u001b[0;36m<cell line: 0>\u001b[0;34m()\u001b[0m\n\u001b[1;32m     59\u001b[0m \u001b[0mservico\u001b[0m \u001b[0;34m=\u001b[0m \u001b[0mescolha_servico\u001b[0m\u001b[0;34m(\u001b[0m\u001b[0;34m)\u001b[0m\u001b[0;34m\u001b[0m\u001b[0;34m\u001b[0m\u001b[0m\n\u001b[1;32m     60\u001b[0m \u001b[0mnum\u001b[0m \u001b[0;34m=\u001b[0m \u001b[0mnum_pagina\u001b[0m\u001b[0;34m(\u001b[0m\u001b[0;34m)\u001b[0m\u001b[0;34m\u001b[0m\u001b[0;34m\u001b[0m\u001b[0m\n\u001b[0;32m---> 61\u001b[0;31m \u001b[0mextra\u001b[0m \u001b[0;34m=\u001b[0m \u001b[0mservico_extra\u001b[0m\u001b[0;34m(\u001b[0m\u001b[0;34m)\u001b[0m\u001b[0;34m\u001b[0m\u001b[0;34m\u001b[0m\u001b[0m\n\u001b[0m\u001b[1;32m     62\u001b[0m \u001b[0;34m\u001b[0m\u001b[0m\n\u001b[1;32m     63\u001b[0m \u001b[0mtotal\u001b[0m \u001b[0;34m=\u001b[0m \u001b[0;34m(\u001b[0m\u001b[0mservico\u001b[0m \u001b[0;34m*\u001b[0m \u001b[0mnum\u001b[0m\u001b[0;34m)\u001b[0m \u001b[0;34m+\u001b[0m \u001b[0mextra\u001b[0m\u001b[0;34m\u001b[0m\u001b[0;34m\u001b[0m\u001b[0m\n",
            "\u001b[0;32m<ipython-input-1-97a32393d0b0>\u001b[0m in \u001b[0;36mservico_extra\u001b[0;34m()\u001b[0m\n\u001b[1;32m     46\u001b[0m         \u001b[0mprint\u001b[0m\u001b[0;34m(\u001b[0m\u001b[0;34m'2 - Encadernação capa dura - R$ 40,00'\u001b[0m\u001b[0;34m)\u001b[0m\u001b[0;34m\u001b[0m\u001b[0;34m\u001b[0m\u001b[0m\n\u001b[1;32m     47\u001b[0m         \u001b[0mprint\u001b[0m\u001b[0;34m(\u001b[0m\u001b[0;34m'0 - Não desejo mais nada'\u001b[0m\u001b[0;34m)\u001b[0m\u001b[0;34m\u001b[0m\u001b[0;34m\u001b[0m\u001b[0m\n\u001b[0;32m---> 48\u001b[0;31m         \u001b[0mextra\u001b[0m \u001b[0;34m=\u001b[0m \u001b[0mint\u001b[0m\u001b[0;34m(\u001b[0m\u001b[0minput\u001b[0m\u001b[0;34m(\u001b[0m\u001b[0;34m'>> '\u001b[0m\u001b[0;34m)\u001b[0m\u001b[0;34m)\u001b[0m \u001b[0;31m# verificando se digitou corretamente\u001b[0m\u001b[0;34m\u001b[0m\u001b[0;34m\u001b[0m\u001b[0m\n\u001b[0m\u001b[1;32m     49\u001b[0m         \u001b[0;32mif\u001b[0m \u001b[0;34m(\u001b[0m\u001b[0mextra\u001b[0m \u001b[0;34m!=\u001b[0m \u001b[0;34m'1'\u001b[0m \u001b[0;32mand\u001b[0m \u001b[0mextra\u001b[0m \u001b[0;34m!=\u001b[0m \u001b[0;34m'2'\u001b[0m \u001b[0;32mand\u001b[0m \u001b[0mextra\u001b[0m \u001b[0;34m!=\u001b[0m \u001b[0;34m'0'\u001b[0m\u001b[0;34m)\u001b[0m\u001b[0;34m:\u001b[0m\u001b[0;34m\u001b[0m\u001b[0;34m\u001b[0m\u001b[0m\n\u001b[1;32m     50\u001b[0m             \u001b[0mprint\u001b[0m\u001b[0;34m(\u001b[0m\u001b[0;34m'Escolha errada, entre com o tipo de serviço extra novamente.\\n'\u001b[0m\u001b[0;34m)\u001b[0m\u001b[0;34m\u001b[0m\u001b[0;34m\u001b[0m\u001b[0m\n",
            "\u001b[0;32m/usr/local/lib/python3.11/dist-packages/ipykernel/kernelbase.py\u001b[0m in \u001b[0;36mraw_input\u001b[0;34m(self, prompt)\u001b[0m\n\u001b[1;32m   1175\u001b[0m                 \u001b[0;34m\"raw_input was called, but this frontend does not support input requests.\"\u001b[0m\u001b[0;34m\u001b[0m\u001b[0;34m\u001b[0m\u001b[0m\n\u001b[1;32m   1176\u001b[0m             )\n\u001b[0;32m-> 1177\u001b[0;31m         return self._input_request(\n\u001b[0m\u001b[1;32m   1178\u001b[0m             \u001b[0mstr\u001b[0m\u001b[0;34m(\u001b[0m\u001b[0mprompt\u001b[0m\u001b[0;34m)\u001b[0m\u001b[0;34m,\u001b[0m\u001b[0;34m\u001b[0m\u001b[0;34m\u001b[0m\u001b[0m\n\u001b[1;32m   1179\u001b[0m             \u001b[0mself\u001b[0m\u001b[0;34m.\u001b[0m\u001b[0m_parent_ident\u001b[0m\u001b[0;34m[\u001b[0m\u001b[0;34m\"shell\"\u001b[0m\u001b[0;34m]\u001b[0m\u001b[0;34m,\u001b[0m\u001b[0;34m\u001b[0m\u001b[0;34m\u001b[0m\u001b[0m\n",
            "\u001b[0;32m/usr/local/lib/python3.11/dist-packages/ipykernel/kernelbase.py\u001b[0m in \u001b[0;36m_input_request\u001b[0;34m(self, prompt, ident, parent, password)\u001b[0m\n\u001b[1;32m   1217\u001b[0m             \u001b[0;32mexcept\u001b[0m \u001b[0mKeyboardInterrupt\u001b[0m\u001b[0;34m:\u001b[0m\u001b[0;34m\u001b[0m\u001b[0;34m\u001b[0m\u001b[0m\n\u001b[1;32m   1218\u001b[0m                 \u001b[0;31m# re-raise KeyboardInterrupt, to truncate traceback\u001b[0m\u001b[0;34m\u001b[0m\u001b[0;34m\u001b[0m\u001b[0m\n\u001b[0;32m-> 1219\u001b[0;31m                 \u001b[0;32mraise\u001b[0m \u001b[0mKeyboardInterrupt\u001b[0m\u001b[0;34m(\u001b[0m\u001b[0;34m\"Interrupted by user\"\u001b[0m\u001b[0;34m)\u001b[0m \u001b[0;32mfrom\u001b[0m \u001b[0;32mNone\u001b[0m\u001b[0;34m\u001b[0m\u001b[0;34m\u001b[0m\u001b[0m\n\u001b[0m\u001b[1;32m   1220\u001b[0m             \u001b[0;32mexcept\u001b[0m \u001b[0mException\u001b[0m\u001b[0;34m:\u001b[0m\u001b[0;34m\u001b[0m\u001b[0;34m\u001b[0m\u001b[0m\n\u001b[1;32m   1221\u001b[0m                 \u001b[0mself\u001b[0m\u001b[0;34m.\u001b[0m\u001b[0mlog\u001b[0m\u001b[0;34m.\u001b[0m\u001b[0mwarning\u001b[0m\u001b[0;34m(\u001b[0m\u001b[0;34m\"Invalid Message:\"\u001b[0m\u001b[0;34m,\u001b[0m \u001b[0mexc_info\u001b[0m\u001b[0;34m=\u001b[0m\u001b[0;32mTrue\u001b[0m\u001b[0;34m)\u001b[0m\u001b[0;34m\u001b[0m\u001b[0;34m\u001b[0m\u001b[0m\n",
            "\u001b[0;31mKeyboardInterrupt\u001b[0m: Interrupted by user"
          ]
        }
      ]
    }
  ]
}